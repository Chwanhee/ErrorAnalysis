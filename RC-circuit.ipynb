{
 "cells": [
  {
   "cell_type": "code",
   "execution_count": 2,
   "metadata": {},
   "outputs": [],
   "source": [
    "\"\"\"A minimal, self-contained example of using pydwf.\"\"\"\n",
    "\n",
    "from pydwf import DwfLibrary, DwfAnalogOutNode, DwfAnalogOutFunction\n",
    "from pydwf.utilities import openDwfDevice\n",
    "\n",
    "dwf = DwfLibrary()\n",
    "\n",
    "with openDwfDevice(dwf) as device:\n",
    "\n",
    "    CH1 = 0  # Analog-out channel numbering starts at zero.\n",
    "    node = DwfAnalogOutNode.Carrier\n",
    "\n",
    "    device.analogOut.reset(CH1)\n",
    "\n",
    "    device.analogOut.nodeEnableSet(CH1, node, True)\n",
    "    device.analogOut.nodeFunctionSet(CH1, node, DwfAnalogOutFunction.Sine)\n",
    "    device.analogOut.nodeFrequencySet(CH1, node, 1000.0)\n",
    "\n",
    "    # Start the channel.\n",
    "    device.analogOut.configure(CH1, True)\n",
    "\n",
    "    input(\"Producing a 1 kHz tone on CH1. Press Enter to quit ...\")"
   ]
  }
 ],
 "metadata": {
  "kernelspec": {
   "display_name": "yeerum",
   "language": "python",
   "name": "python3"
  },
  "language_info": {
   "codemirror_mode": {
    "name": "ipython",
    "version": 3
   },
   "file_extension": ".py",
   "mimetype": "text/x-python",
   "name": "python",
   "nbconvert_exporter": "python",
   "pygments_lexer": "ipython3",
   "version": "3.11.4"
  },
  "orig_nbformat": 4
 },
 "nbformat": 4,
 "nbformat_minor": 2
}
