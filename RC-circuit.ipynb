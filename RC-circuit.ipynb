{
 "cells": [
  {
   "cell_type": "code",
   "execution_count": 29,
   "metadata": {},
   "outputs": [],
   "source": [
    "import numpy as np\n",
    "import matplotlib.pyplot as plt\n",
    "\n",
    "import tqdm\n",
    "import pickle\n",
    "\n",
    "import swimAD2 as ad2       # copy swimAD2.py to your working directory\n",
    "import time\n",
    "\n",
    "ad2.disconnect()            # close all instances before connecting\n",
    "zoroku = ad2.connect(0)      # connect to first(0th) ad2, give it the name 'zoroku'"
   ]
  },
  {
   "cell_type": "code",
   "execution_count": 30,
   "metadata": {},
   "outputs": [
    {
     "name": "stdout",
     "output_type": "stream",
     "text": [
      "0.13815510557964275\n",
      "{3: {'1th': {'rise': 'Charging', 'fall': 'Leakage'}}, 4: {'1th': {'rise': 'Charging', 'fall': 'Leakage'}}, 5: {'1th': {'rise': 'Charging', 'fall': 'Leakage'}}}\n"
     ]
    }
   ],
   "source": [
    "# Create a DC current to charge the capacitor. \n",
    "\n",
    "# Measurements of the components. \n",
    "Res = 1000 # Resistance in Ohms.\n",
    "Cap = 10e-6 # Capacitance in Fahrads.\n",
    "\n",
    "t_wait = -Res*Cap*np.log(1e-6) # Expected time to charge. \n",
    "print(t_wait)\n",
    "\n",
    "hertz = 100e6 # Sampling rate of oscilloscope in Hz. \n",
    "\n",
    "volt_in = range(3,6)\n",
    "n_trial = range(1)\n",
    "\n",
    "input_dict = {}\n",
    "for volt in volt_in: \n",
    "    input_dict[volt] = {}\n",
    "    for trial in n_trial:\n",
    "        trial = str(trial+1)+\"th\"\n",
    "        input_dict[volt][trial] = {\n",
    "                                    \"rise\": \"Charging\",\n",
    "                                    \"fall\":\"Leakage\"\n",
    "                                    }\n",
    "print(input_dict)"
   ]
  },
  {
   "cell_type": "code",
   "execution_count": 33,
   "metadata": {},
   "outputs": [],
   "source": [
    "delay = 10 # Seconds of measurement\n",
    "\n",
    "for volt in tqdm(input_dict.keys()):\n",
    "    for trial in n_trial:\n",
    "        trial = str(trial+1)+\"th\"\n",
    "\n",
    "        ad2.config_wavegen(zoroku, \n",
    "            frequency=0,\n",
    "            amplitude=0,\n",
    "            offset=volt\n",
    "            )\n",
    "\n",
    "        ad2.config_oscilloscope(zoroku,\n",
    "            range0=.25,\n",
    "            range1=.25,\n",
    "            sample_rate = 100e3,\n",
    "            sample_size= int(100e3*delay),\n",
    "            )\n",
    "        \n",
    "        ad2.start_wavegen(zoroku,channel=0)\n",
    "        input_dict[volt][trial][\"rise\"] = ad2.measure_oscilloscope(zoroku)\n",
    "        \n",
    "        # We let the capacitor charge up\n",
    "        time.sleep(60)\n",
    "\n",
    "        input_dict[volt][trial][\"fall\"] = ad2.measure_oscilloscope(zoroku)\n",
    "\n",
    "        ad2.stop_wavegen(zoroku,channel=0)\n",
    "        time.sleep(60*5)\n"
   ]
  },
  {
   "cell_type": "code",
   "execution_count": 43,
   "metadata": {},
   "outputs": [
    {
     "data": {
      "text/plain": [
       "<matplotlib.legend.Legend at 0x1a63e29c710>"
      ]
     },
     "execution_count": 43,
     "metadata": {},
     "output_type": "execute_result"
    },
    {
     "data": {
      "image/png": "[encoded data removed]",
      "text/plain": [
       "<Figure size 700x700 with 3 Axes>"
      ]
     },
     "metadata": {},
     "output_type": "display_data"
    }
   ],
   "source": [
    "fig, axes = plt.subplots(\n",
    "                        len(volt_in),len(n_trial),\n",
    "                        figsize=(7,7),sharex=True,sharey=True\n",
    "                        )\n",
    "fig.subplots_adjust(hspace=0,wspace=0.1)\n",
    "\n",
    "for i,volt in enumerate(volt_in):\n",
    "    # ax = axes[i]\n",
    "    for trial in n_trial:\n",
    "        trial = str(trial+1)+\"th\"\n",
    "        for region in [\"rise\",\"fall\"]:\n",
    "            t,v0,v1 = input_dict[volt][trial][region]\n",
    "\n",
    "            axes[i].scatter(t,v0,\n",
    "                              color=\"orange\",s=0.3,\n",
    "                              label=str(volt)+\"$V_{R1}$\"\n",
    "                              )\n",
    "            axes[i].axvline(x=t[-1])\n",
    "            axes[i].scatter(t,v1,\n",
    "                              color=\"blue\",s=0.3)\n",
    "fig.legend(loc=\"lower right\")\n"
   ]
  },
  {
   "cell_type": "code",
   "execution_count": 44,
   "metadata": {},
   "outputs": [],
   "source": [
    "handle = open(\"rc-practice.pkl\", 'wb')\n",
    "pickle.dump(input_dict, handle, protocol=pickle.HIGHEST_PROTOCOL)\n",
    "handle.close()"
   ]
  },
  {
   "cell_type": "code",
   "execution_count": 46,
   "metadata": {},
   "outputs": [
    {
     "name": "stdout",
     "output_type": "stream",
     "text": [
      "7.639423714992035\n",
      "27.16346052780374\n",
      "43.42013236290518\n"
     ]
    }
   ],
   "source": [
    "for i,volt in enumerate(volt_in):\n",
    "    for trial in n_trial:\n",
    "        trial = str(trial+1)+\"th\"\n",
    "\n",
    "        region = \"fall\"\n",
    "        t,v0,v1 = input_dict[volt][trial][region]\n",
    "        print(np.mean(v0)*Res)"
   ]
  }
 ],
 "metadata": {
  "kernelspec": {
   "display_name": "yeerum",
   "language": "python",
   "name": "python3"
  },
  "language_info": {
   "codemirror_mode": {
    "name": "ipython",
    "version": 3
   },
   "file_extension": ".py",
   "mimetype": "text/x-python",
   "name": "python",
   "nbconvert_exporter": "python",
   "pygments_lexer": "ipython3",
   "version": "3.11.4"
  },
  "orig_nbformat": 4
 },
 "nbformat": 4,
 "nbformat_minor": 2
}
