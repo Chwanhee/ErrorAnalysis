{
 "cells": [
  {
   "cell_type": "code",
   "execution_count": null,
   "metadata": {},
   "outputs": [
    {
     "name": "stderr",
     "output_type": "stream",
     "text": [
      "  0%|                                                                                           | 0/21 [00:00<?, ?it/s]"
     ]
    },
    {
     "name": "stdout",
     "output_type": "stream",
     "text": [
      "Make sure the components' values were correctly input.\n",
      "0.013816 s to charge, 0.138155 s to discharge\n",
      "Expected wait time : 540.956915 min\n"
     ]
    },
    {
     "name": "stderr",
     "output_type": "stream",
     "text": [
      "100%|██████████████████████████████████████████████████████████████████████████████████| 21/21 [30:04<00:00, 85.95s/it]\n"
     ]
    },
    {
     "name": "stdout",
     "output_type": "stream",
     "text": [
      "Data up to resistor 150 has been collected and saved.\n",
      "Switch resistor, then press ENTER to measure.\n"
     ]
    },
    {
     "name": "stderr",
     "output_type": "stream",
     "text": [
      "  0%|                                                                                           | 0/21 [00:00<?, ?it/s]"
     ]
    },
    {
     "name": "stdout",
     "output_type": "stream",
     "text": [
      "Expected wait time : 540.956915 min\n"
     ]
    },
    {
     "name": "stderr",
     "output_type": "stream",
     "text": [
      "  5%|███▉                                                                               | 1/21 [01:25<28:38, 85.95s/it]"
     ]
    }
   ],
   "source": [
    "# Code designed to measure the leakage current from an RC curve. \n",
    "\n",
    "import numpy as np\n",
    "import matplotlib.pyplot as plt\n",
    "\n",
    "from tqdm import tqdm\n",
    "import pickle\n",
    "\n",
    "import swimAD2 as ad2\n",
    "import time\n",
    "\n",
    "####### End of importing #######\n",
    "\n",
    "def sampling(time):\n",
    "    hertz = 100e6\n",
    "    size = time*hertz \n",
    "    if size <= 8192:\n",
    "        return size,hertz\n",
    "    else: \n",
    "        size = 8192\n",
    "        hertz = size/time\n",
    "        return size,hertz\n",
    "    \n",
    "def config_measurement(tinterval,volt):\n",
    "    # Set the oscilloscope rate to measure for tinterval.\n",
    "    size,rate = sampling(tinterval)\n",
    "    # Set the gain of the oscilloscope (high or low).\n",
    "    rng = 1 if volt<5 else 25 \n",
    "    ad2.config_oscilloscope(zoroku,\n",
    "        range0=rng,\n",
    "        range1=rng,\n",
    "        sample_rate = rate,\n",
    "        sample_size= size,\n",
    "        )\n",
    "### End of function defining ###\n",
    "\n",
    "\n",
    "##### Start of actual code #####\n",
    "ad2.disconnect()\n",
    "zoroku = ad2.connect(0)\n",
    "\n",
    "print(\"Make sure the components' values were correctly input.\")\n",
    "\n",
    "# Measurements of the components. \n",
    "Res = [150,220,330,470,510] # Resistances in Ohms.\n",
    "Cap = 10e-6 # Capacitance in Fahrads. \n",
    "    \n",
    "# \"Threshold\" is the fraction of capacitor left to full charge\n",
    "# It can't be smaller than leakage (orders of uA).\n",
    "\n",
    "threshold = 1e-4 # Fraction of capacitor left to full charge. \n",
    "\n",
    "tau = Res[0]*Cap\n",
    "t_wait = -tau*np.log(threshold) # Expected time to charge. \n",
    "discharge = t_wait*10\n",
    "\n",
    "print(\"%5f s to charge, %5f s to discharge\" % (t_wait,discharge))\n",
    "\n",
    "volt_in = [3.0,3.1,3.2,3.3,3.4,\n",
    "           3.5,3.6,3.7,3.8,3.9,\n",
    "           4.0,4.1,4.2,4.3,4.4,\n",
    "           4.5,4.6,4.7,4.8,4.9,\n",
    "           5.0\n",
    "           ] # LIST of voltages to try.  \n",
    "n_trial = range(5) # LIST of trials per voltage.\n",
    "\n",
    "data_dict = {\"cap\": Cap,\"res\": Res,\n",
    "            \"thresh\":threshold\n",
    "            }\n",
    "for i,R in enumerate(Res): \n",
    "    data_dict[R] = {}\n",
    "    for volt in volt_in: \n",
    "        data_dict[R][volt] = {}\n",
    "        for trial in n_trial:\n",
    "            trial = str(trial+1)+\"th\"\n",
    "            data_dict[R][volt][trial] = {\"rise\": \"Charging\",\n",
    "                                    \"fall\":\"Leakage\"\n",
    "                                    }\n",
    "\n",
    "for R in Res:\n",
    "    downtime = len(volt_in)*60*len(n_trial)*(t_wait+5+discharge)/60\n",
    "    print(\"Expected wait time : %2f min\" % downtime)\n",
    "    for volt in tqdm(volt_in):\n",
    "        for trial in data_dict[R][volt].keys():\n",
    "            ad2.config_wavegen(zoroku, \n",
    "                            frequency=0,\n",
    "                            amplitude=0,\n",
    "                            offset=volt\n",
    "                            )\n",
    "            config_measurement(t_wait,volt)\n",
    "            ad2.start_wavegen(zoroku,channel=0)\n",
    "\n",
    "            data_dict[R][volt][trial][\"rise\"] = ad2.measure_oscilloscope(zoroku)\n",
    "            \n",
    "            config_measurement(5,volt)\n",
    "            t,v0,v1 = ad2.measure_oscilloscope(zoroku)\n",
    "            t += t_wait\n",
    "\n",
    "            data_dict[R][volt][trial][\"fall\"] =  t,v0,v1\n",
    "\n",
    "            ad2.stop_wavegen(zoroku,channel=0)\n",
    "            ad2.reset_wavegen(zoroku,channel=0)\n",
    "\n",
    "            # We let the system discharge\n",
    "            time.sleep(discharge)\n",
    "        time.sleep(60)\n",
    "    handle = open(\"rc-leakage.pkl\", 'wb')\n",
    "    pickle.dump(data_dict, handle, protocol=pickle.HIGHEST_PROTOCOL)\n",
    "    handle.close()\n",
    "\n",
    "    print(\"Data up to resistor %d has been collected and saved.\" % R)\n",
    "    input(\"Switch resistor, then press ENTER to measure.\")"
   ]
  }
 ],
 "metadata": {
  "kernelspec": {
   "display_name": "Python 3",
   "language": "python",
   "name": "python3"
  },
  "language_info": {
   "codemirror_mode": {
    "name": "ipython",
    "version": 3
   },
   "file_extension": ".py",
   "mimetype": "text/x-python",
   "name": "python",
   "nbconvert_exporter": "python",
   "pygments_lexer": "ipython3",
   "version": "3.8.3"
  }
 },
 "nbformat": 4,
 "nbformat_minor": 4
}
